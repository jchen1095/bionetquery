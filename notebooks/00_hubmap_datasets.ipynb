{
 "cells": [
  {
   "cell_type": "code",
   "execution_count": null,
   "metadata": {},
   "outputs": [],
   "source": [
    "# !pip install requests pandas"
   ]
  },
  {
   "cell_type": "code",
   "execution_count": null,
   "metadata": {},
   "outputs": [],
   "source": [
    "import requests\n",
    "import json\n",
    "from csv import DictReader, excel_tab\n",
    "from io import StringIO\n",
    "\n",
    "import pandas as pd"
   ]
  },
  {
   "cell_type": "code",
   "execution_count": null,
   "metadata": {},
   "outputs": [],
   "source": [
    "uuids = ['a1d17fdd270a69c813b872a927dfa5f3']\n",
    "\n",
    "search_api = 'https://search.api.hubmapconsortium.org/v3/portal/search'"
   ]
  },
  {
   "cell_type": "code",
   "execution_count": null,
   "metadata": {},
   "outputs": [],
   "source": [
    "## from: https://github.com/hubmapconsortium/user-templates-api/blob/development/src/user_templates_api/templates/jupyter_lab/templates/celltypes_salmon/template.txt\n",
    "def get_uuid_to_hubmap(uuids): \n",
    "    '''\n",
    "    Retrieve a dictionary mapping uuids to hubmap ids.\n",
    "\n",
    "    Parameters\n",
    "    ----------\n",
    "    uuids : list\n",
    "        list with uuids\n",
    "    \n",
    "    Returns\n",
    "    -------\n",
    "    dictionary mapping uuids to hubmap ids\n",
    "    '''\n",
    "    ## Fetch metadata, and read it into a dataframe\n",
    "    response = requests.post(\n",
    "        'https://portal.hubmapconsortium.org/metadata/v0/datasets.tsv', json={'uuids': uuids}\n",
    "    )\n",
    "    metadata = list(DictReader(StringIO(response.text), dialect=excel_tab))\n",
    "    metadata = pd.DataFrame(metadata[1:])\n",
    "\n",
    "    ## Create mapping from uuid to hubmap id\n",
    "    uuid_to_hubmap = dict(zip(metadata['uuid'], metadata['hubmap_id']))\n",
    "    return uuid_to_hubmap\n",
    "\n",
    "uuid_to_hubmap = get_uuid_to_hubmap(uuids)\n",
    "uuid_to_hubmap"
   ]
  },
  {
   "cell_type": "code",
   "execution_count": null,
   "metadata": {},
   "outputs": [],
   "source": [
    "## adapted from: https://github.com/hubmapconsortium/user-templates-api/blob/development/src/user_templates_api/templates/jupyter_lab/templates/api_tutorial/template.txt\n",
    "# The Search API supports Elasticsearch queries:\n",
    "\n",
    "hits = json.loads(\n",
    "    requests.post(\n",
    "        search_api,\n",
    "        json={\n",
    "            \"size\": 10000,  # To make sure the list is not truncted, set this high.\n",
    "            \"query\": {\"ids\": {\"values\": uuids}},\n",
    "            \"_source\": [\"files\"],\n",
    "        },  # Documents are large, so only request the fields we need.\n",
    "    ).text\n",
    ")[\"hits\"][\"hits\"]\n",
    "\n",
    "hits = [h for h in hits if len(h['_source']['files']) > 0]"
   ]
  },
  {
   "cell_type": "code",
   "execution_count": null,
   "metadata": {},
   "outputs": [],
   "source": [
    "hits"
   ]
  }
 ],
 "metadata": {
  "kernelspec": {
   "display_name": ".venv",
   "language": "python",
   "name": "python3"
  },
  "language_info": {
   "codemirror_mode": {
    "name": "ipython",
    "version": 3
   },
   "file_extension": ".py",
   "mimetype": "text/x-python",
   "name": "python",
   "nbconvert_exporter": "python",
   "pygments_lexer": "ipython3",
   "version": "3.11.4"
  }
 },
 "nbformat": 4,
 "nbformat_minor": 2
}
