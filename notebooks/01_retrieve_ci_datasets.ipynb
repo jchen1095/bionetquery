{
 "cells": [
  {
   "cell_type": "markdown",
   "metadata": {},
   "source": [
    "This notebook shows how to retrieve all hubmap datasets and filter these down to only the datasets that have a secondary_analysis.h5ad file with CLID annotation"
   ]
  },
  {
   "cell_type": "code",
   "execution_count": 1,
   "metadata": {},
   "outputs": [],
   "source": [
    "# !pip install requests pandas zarr"
   ]
  },
  {
   "cell_type": "code",
   "execution_count": 2,
   "metadata": {},
   "outputs": [],
   "source": [
    "import requests\n",
    "from csv import DictReader, excel_tab\n",
    "from io import StringIO\n",
    "import json\n",
    "import requests\n",
    "\n",
    "import pandas as pd\n",
    "import zarr"
   ]
  },
  {
   "cell_type": "code",
   "execution_count": 3,
   "metadata": {},
   "outputs": [],
   "source": [
    "## get all hubmap datasets\n",
    "response = requests.get(\n",
    "    'https://portal.hubmapconsortium.org/metadata/v0/datasets.tsv'\n",
    ")\n",
    "metadata = list(DictReader(StringIO(response.text), dialect=excel_tab))\n",
    "uuids = list(pd.DataFrame(metadata[1:])['uuid'])"
   ]
  },
  {
   "cell_type": "code",
   "execution_count": 4,
   "metadata": {},
   "outputs": [
    {
     "data": {
      "text/plain": [
       "2414"
      ]
     },
     "execution_count": 4,
     "metadata": {},
     "output_type": "execute_result"
    }
   ],
   "source": [
    "len(uuids)"
   ]
  },
  {
   "cell_type": "code",
   "execution_count": 5,
   "metadata": {},
   "outputs": [],
   "source": [
    "# query the search api for files\n",
    "search_api = 'https://search.api.hubmapconsortium.org/v3/portal/search'\n",
    "\n",
    "# warning: the uuids need to be chunked, you can't add all >2000 uuids in one post request\n",
    "\n",
    "hits = json.loads(\n",
    "    requests.post(\n",
    "        search_api,\n",
    "        json={\n",
    "            \"size\": 10000,  # To make sure the list is not truncted, set this high.\n",
    "            \"query\": {\"ids\": {\"values\": uuids[0:500]}},\n",
    "            \"_source\": [\"files\"],\n",
    "        },  # Documents are large, so only request the fields we need.\n",
    "    ).text\n",
    ")[\"hits\"][\"hits\"]\n",
    "\n",
    "# filter for datasets that have at least one file\n",
    "hits = [h for h in hits if len(h['_source']['files']) > 0]\n",
    "\n",
    "# filter for datasets that have the secondary_analysis.h5ad file\n",
    "hits_secondary = [h for h in hits if 'secondary_analysis.h5ad' in map(lambda d: d['rel_path'], h['_source']['files'])]\n",
    "uuids_secondary = [h['_id'] for h in hits_secondary]"
   ]
  },
  {
   "cell_type": "code",
   "execution_count": 6,
   "metadata": {},
   "outputs": [
    {
     "data": {
      "text/plain": [
       "72"
      ]
     },
     "execution_count": 6,
     "metadata": {},
     "output_type": "execute_result"
    }
   ],
   "source": [
    "len(uuids_secondary)"
   ]
  },
  {
   "cell_type": "code",
   "execution_count": 7,
   "metadata": {},
   "outputs": [],
   "source": [
    "# for each dataset, check if it has the 'predicted_CLID' as a column in the obs dataframe\n",
    "# this takes about a minute for 75 entries\n",
    "uuids_clid = []\n",
    "for uuid in uuids_secondary:\n",
    "    try: \n",
    "        # get the zarr_url for this dataset and file\n",
    "        zarr_url = f'https://assets.hubmapconsortium.org/{uuid}/hubmap_ui/anndata-zarr/secondary_analysis.zarr'\n",
    "        obs_root = zarr.open(zarr_url + \"/obs\")\n",
    "        obs_columns = obs_root.attrs['column-order']\n",
    "        if 'predicted_CLID' in obs_columns: \n",
    "            uuids_clid.append(uuid)\n",
    "    except: \n",
    "        break"
   ]
  },
  {
   "cell_type": "code",
   "execution_count": null,
   "metadata": {},
   "outputs": [],
   "source": [
    "uuids_clid"
   ]
  }
 ],
 "metadata": {
  "kernelspec": {
   "display_name": ".venv",
   "language": "python",
   "name": "python3"
  },
  "language_info": {
   "codemirror_mode": {
    "name": "ipython",
    "version": 3
   },
   "file_extension": ".py",
   "mimetype": "text/x-python",
   "name": "python",
   "nbconvert_exporter": "python",
   "pygments_lexer": "ipython3",
   "version": "3.11.4"
  }
 },
 "nbformat": 4,
 "nbformat_minor": 2
}
